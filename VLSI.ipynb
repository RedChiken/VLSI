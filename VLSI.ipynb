{
 "cells": [
  {
   "cell_type": "code",
   "execution_count": 43,
   "metadata": {
    "collapsed": true
   },
   "outputs": [],
   "source": [
    "import os\n",
    "tsp_file_name= list(filter(lambda x: 'tsp' == x[-3:], os.listdir()))[0]\n",
    "with open(tsp_file_name) as f:\n",
    "    raw_data= f.read().split('\\n')[8:-2]"
   ]
  },
  {
   "cell_type": "code",
   "execution_count": 44,
   "metadata": {},
   "outputs": [],
   "source": [
    "data= list(map(lambda row: list(map(lambda x: int(x), row.split())), raw_data))"
   ]
  },
  {
   "cell_type": "code",
   "execution_count": 45,
   "metadata": {},
   "outputs": [
    {
     "data": {
      "text/plain": [
       "[1, 0, 13]"
      ]
     },
     "execution_count": 45,
     "metadata": {},
     "output_type": "execute_result"
    }
   ],
   "source": [
    "data[0]"
   ]
  },
  {
   "cell_type": "code",
   "execution_count": 61,
   "metadata": {},
   "outputs": [],
   "source": [
    "from math import sqrt\n",
    "def calc_cost_mat(raw_data):\n",
    "    cost_mat=[[0]*len(raw_data) for i in range(len(raw_data))]\n",
    "    for i in range(len(raw_data)):\n",
    "        for j in range(len(raw_data)):\n",
    "            p1= raw_data[i]\n",
    "            p2= raw_data[j]\n",
    "            distance= sqrt((p1[1]-p2[1])**2+(p1[2]-p2[2])**2)\n",
    "            cost_mat[p1[0]-1][p2[0]-1]= cost_mat[p2[0]-1][p1[0]-1]= distance\n",
    "    return cost_mat\n",
    "def gen_random_path(data):\n",
    "    return list(map(lambda x: x[0], sample(data, len(data))))\n",
    "\n",
    "def calc_prob(best_score, trial_score, temperature):\n",
    "    if best_score> trial_score:\n",
    "        return 1\n",
    "    else:\n",
    "        return e**((trial_score-best_score)/temperature)"
   ]
  },
  {
   "cell_type": "code",
   "execution_count": 63,
   "metadata": {},
   "outputs": [],
   "source": [
    "cost_mat= calc_cost_mat(data)\n",
    "cur_path= gen_random_path(data)"
   ]
  },
  {
   "cell_type": "code",
   "execution_count": 64,
   "metadata": {},
   "outputs": [],
   "source": [
    "path= cur_path\n",
    "[idx1, idx2]= sample(range(len(path)), 2)"
   ]
  },
  {
   "cell_type": "code",
   "execution_count": 67,
   "metadata": {},
   "outputs": [
    {
     "data": {
      "text/plain": [
       "0.41450115059030135"
      ]
     },
     "execution_count": 67,
     "metadata": {},
     "output_type": "execute_result"
    }
   ],
   "source": [
    "from random import random\n",
    "random()"
   ]
  },
  {
   "cell_type": "code",
   "execution_count": null,
   "metadata": {},
   "outputs": [],
   "source": []
  }
 ],
 "metadata": {
  "kernelspec": {
   "display_name": "Python 2",
   "language": "python",
   "name": "python2"
  },
  "language_info": {
   "codemirror_mode": {
    "name": "ipython",
    "version": 2
   },
   "file_extension": ".py",
   "mimetype": "text/x-python",
   "name": "python",
   "nbconvert_exporter": "python",
   "pygments_lexer": "ipython2",
   "version": "2.7.6"
  }
 },
 "nbformat": 4,
 "nbformat_minor": 0
}
